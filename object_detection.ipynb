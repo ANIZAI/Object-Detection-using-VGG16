{
  "nbformat": 4,
  "nbformat_minor": 0,
  "metadata": {
    "colab": {
      "name": "Untitled2.ipynb",
      "provenance": [],
      "authorship_tag": "ABX9TyOgvFxoIyZWIELEeKdLQ7ZS",
      "include_colab_link": true
    },
    "kernelspec": {
      "name": "python3",
      "display_name": "Python 3"
    }
  },
  "cells": [
    {
      "cell_type": "markdown",
      "metadata": {
        "id": "view-in-github",
        "colab_type": "text"
      },
      "source": [
        "<a href=\"https://colab.research.google.com/github/ANIZAI/Object-Detection-using-VGG16/blob/master/object_detection.ipynb\" target=\"_parent\"><img src=\"https://colab.research.google.com/assets/colab-badge.svg\" alt=\"Open In Colab\"/></a>"
      ]
    },
    {
      "cell_type": "code",
      "metadata": {
        "id": "4SBr5KCBnelZ",
        "colab_type": "code",
        "colab": {}
      },
      "source": [
        "from __future__ import absolute_import, division, print_function\n",
        "from tqdm import tqdm\n",
        "from numpy.random import randn\n",
        " \n",
        "import pathlib\n",
        "import random\n",
        "import matplotlib.pyplot as plt\n",
        " \n",
        "import tensorflow as tf\n",
        "import numpy as np\n",
        " \n",
        "from matplotlib.image import imread\n",
        "from keras.preprocessing import image\n",
        " \n",
        "\n",
        " \n",
        "AUTOTUNE = tf.data.experimental.AUTOTUNE\n",
        " \n",
        "data_dir = tf.keras.utils.get_file('flower_photos','https://storage.googleapis.com/download.tensorflow.org/example_images/flower_photos.tgz', untar=True)\n",
        "data_dir = pathlib.Path(data_dir)\n",
        " \n",
        "label_names={'daisy': 0, 'dandelion': 1, 'roses': 2, 'sunflowers': 3, 'tulips': 4}\n",
        "label_key=['daisy','dandelion','roses','sunflowers','tulips']"
      ],
      "execution_count": 0,
      "outputs": []
    },
    {
      "cell_type": "code",
      "metadata": {
        "id": "hxfryYZ5pMH7",
        "colab_type": "code",
        "colab": {}
      },
      "source": [
        "all_images = list(data_dir.glob('*/*'))\n",
        "all_images = [str(path) for path in all_images]\n",
        "random.shuffle(all_images)\n",
        " \n",
        "all_labels=[label_names[pathlib.Path(path).parent.name] for path in all_images]\n",
        " \n",
        "data_size=len(all_images)\n",
        " \n",
        "train_test_split=(int)(data_size*0.2)\n",
        " \n",
        "x_train=all_images[train_test_split:]\n",
        "x_test=all_images[:train_test_split]\n",
        " \n",
        "y_train=all_labels[train_test_split:]\n",
        "y_test=all_labels[:train_test_split]\n",
        " \n",
        "IMG_SIZE=160\n",
        " \n",
        "BATCH_SIZE = 32\n",
        " \n",
        "def _parse_data(x,y):\n",
        "  image = tf.io.read_file(x)\n",
        "  image = tf.image.decode_jpeg(image, channels=3)\n",
        "  image = tf.cast(image, tf.float32)\n",
        "  image = (image/127.5) - 1\n",
        "  image = tf.image.resize(image, (IMG_SIZE, IMG_SIZE))\n",
        " \n",
        "  return image,y\n",
        " \n",
        "def _input_fn(x,y):\n",
        "  ds=tf.data.Dataset.from_tensor_slices((x,y))\n",
        "  ds=ds.map(_parse_data)\n",
        "  ds=ds.shuffle(buffer_size=data_size)\n",
        "  \n",
        "  \n",
        "  ds = ds.repeat()\n",
        "  \n",
        "  ds = ds.batch(BATCH_SIZE)\n",
        "  \n",
        "  ds = ds.prefetch(buffer_size=AUTOTUNE)\n",
        "  \n",
        "  return ds\n",
        "  \n",
        "train_ds=_input_fn(x_train,y_train)\n",
        "validation_ds=_input_fn(x_test,y_test)"
      ],
      "execution_count": 0,
      "outputs": []
    },
    {
      "cell_type": "code",
      "metadata": {
        "id": "DMC9vyw9oJaD",
        "colab_type": "code",
        "colab": {}
      },
      "source": [
        "IMG_SHAPE = (IMG_SIZE, IMG_SIZE, 3)\n",
        "VGG16_MODEL=tf.keras.applications.VGG16(input_shape=IMG_SHAPE,\n",
        "                                               include_top=False,\n",
        "                                               weights='imagenet')"
      ],
      "execution_count": 0,
      "outputs": []
    },
    {
      "cell_type": "code",
      "metadata": {
        "id": "sPVGspxhpaU6",
        "colab_type": "code",
        "colab": {}
      },
      "source": [
        "VGG16_MODEL.trainable=False\n",
        "global_average_layer = tf.keras.layers.GlobalAveragePooling2D()\n",
        "prediction_layer = tf.keras.layers.Dense(len(label_names),activation='softmax')"
      ],
      "execution_count": 0,
      "outputs": []
    },
    {
      "cell_type": "code",
      "metadata": {
        "id": "raar6qNFpi_m",
        "colab_type": "code",
        "colab": {}
      },
      "source": [
        "model = tf.keras.Sequential([\n",
        "  VGG16_MODEL,\n",
        "  global_average_layer,\n",
        "  prediction_layer\n",
        "])"
      ],
      "execution_count": 0,
      "outputs": []
    },
    {
      "cell_type": "code",
      "metadata": {
        "id": "iNpOKPb-ps0E",
        "colab_type": "code",
        "colab": {}
      },
      "source": [
        "model.compile(optimizer = tf.keras.optimizers.Adam(),\n",
        "           loss = 'sparse_categorical_crossentropy',\n",
        "           metrics=['accuracy'])"
      ],
      "execution_count": 0,
      "outputs": []
    },
    {
      "cell_type": "code",
      "metadata": {
        "id": "NqTu5Uz9qdi-",
        "colab_type": "code",
        "colab": {
          "base_uri": "https://localhost:8080/",
          "height": 1000
        },
        "outputId": "f4a14ffb-996a-4043-b280-7287be0d753c"
      },
      "source": [
        "history = model.fit(train_ds,\n",
        "                    epochs=100, \n",
        "                    steps_per_epoch=2,\n",
        "                    validation_steps=2,\n",
        "                    validation_data=validation_ds)"
      ],
      "execution_count": 26,
      "outputs": [
        {
          "output_type": "stream",
          "text": [
            "Epoch 1/100\n",
            "2/2 [==============================] - 28s 14s/step - loss: 1.6908 - accuracy: 0.2031 - val_loss: 1.7350 - val_accuracy: 0.1562\n",
            "Epoch 2/100\n",
            "2/2 [==============================] - 26s 13s/step - loss: 1.7018 - accuracy: 0.2500 - val_loss: 1.7487 - val_accuracy: 0.1719\n",
            "Epoch 3/100\n",
            "2/2 [==============================] - 26s 13s/step - loss: 1.6113 - accuracy: 0.2656 - val_loss: 1.6455 - val_accuracy: 0.2969\n",
            "Epoch 4/100\n",
            "2/2 [==============================] - 26s 13s/step - loss: 1.6550 - accuracy: 0.1719 - val_loss: 1.6648 - val_accuracy: 0.2656\n",
            "Epoch 5/100\n",
            "2/2 [==============================] - 26s 13s/step - loss: 1.6211 - accuracy: 0.2812 - val_loss: 1.5937 - val_accuracy: 0.3594\n",
            "Epoch 6/100\n",
            "2/2 [==============================] - 26s 13s/step - loss: 1.5693 - accuracy: 0.2969 - val_loss: 1.5864 - val_accuracy: 0.2969\n",
            "Epoch 7/100\n",
            "2/2 [==============================] - 26s 13s/step - loss: 1.5401 - accuracy: 0.3281 - val_loss: 1.5827 - val_accuracy: 0.1875\n",
            "Epoch 8/100\n",
            "2/2 [==============================] - 26s 13s/step - loss: 1.5472 - accuracy: 0.3281 - val_loss: 1.5075 - val_accuracy: 0.3750\n",
            "Epoch 9/100\n",
            "2/2 [==============================] - 26s 13s/step - loss: 1.5175 - accuracy: 0.3438 - val_loss: 1.5801 - val_accuracy: 0.2344\n",
            "Epoch 10/100\n",
            "2/2 [==============================] - 26s 13s/step - loss: 1.5490 - accuracy: 0.2500 - val_loss: 1.5303 - val_accuracy: 0.2969\n",
            "Epoch 11/100\n",
            "2/2 [==============================] - 26s 13s/step - loss: 1.4948 - accuracy: 0.2656 - val_loss: 1.4874 - val_accuracy: 0.3281\n",
            "Epoch 12/100\n",
            "2/2 [==============================] - 26s 13s/step - loss: 1.5201 - accuracy: 0.3125 - val_loss: 1.5280 - val_accuracy: 0.2344\n",
            "Epoch 13/100\n",
            "2/2 [==============================] - 26s 13s/step - loss: 1.4555 - accuracy: 0.3594 - val_loss: 1.4166 - val_accuracy: 0.4375\n",
            "Epoch 14/100\n",
            "2/2 [==============================] - 26s 13s/step - loss: 1.4056 - accuracy: 0.3750 - val_loss: 1.4676 - val_accuracy: 0.3750\n",
            "Epoch 15/100\n",
            "2/2 [==============================] - 26s 13s/step - loss: 1.5125 - accuracy: 0.2656 - val_loss: 1.4550 - val_accuracy: 0.3906\n",
            "Epoch 16/100\n",
            "2/2 [==============================] - 26s 13s/step - loss: 1.4242 - accuracy: 0.3906 - val_loss: 1.4297 - val_accuracy: 0.4062\n",
            "Epoch 17/100\n",
            "2/2 [==============================] - 26s 13s/step - loss: 1.4555 - accuracy: 0.3438 - val_loss: 1.4051 - val_accuracy: 0.4062\n",
            "Epoch 18/100\n",
            "2/2 [==============================] - 29s 15s/step - loss: 1.4525 - accuracy: 0.4375 - val_loss: 1.4794 - val_accuracy: 0.3594\n",
            "Epoch 19/100\n",
            "2/2 [==============================] - 26s 13s/step - loss: 1.3633 - accuracy: 0.5625 - val_loss: 1.3836 - val_accuracy: 0.5000\n",
            "Epoch 20/100\n",
            "2/2 [==============================] - 26s 13s/step - loss: 1.3672 - accuracy: 0.5625 - val_loss: 1.3224 - val_accuracy: 0.5938\n",
            "Epoch 21/100\n",
            "2/2 [==============================] - 26s 13s/step - loss: 1.4352 - accuracy: 0.4375 - val_loss: 1.3731 - val_accuracy: 0.5156\n",
            "Epoch 22/100\n",
            "2/2 [==============================] - 26s 13s/step - loss: 1.3740 - accuracy: 0.5312 - val_loss: 1.3977 - val_accuracy: 0.5469\n",
            "Epoch 23/100\n",
            "2/2 [==============================] - 26s 13s/step - loss: 1.3682 - accuracy: 0.5625 - val_loss: 1.4217 - val_accuracy: 0.5312\n",
            "Epoch 24/100\n",
            "2/2 [==============================] - 26s 13s/step - loss: 1.4036 - accuracy: 0.5938 - val_loss: 1.2804 - val_accuracy: 0.6562\n",
            "Epoch 25/100\n",
            "2/2 [==============================] - 26s 13s/step - loss: 1.3599 - accuracy: 0.5938 - val_loss: 1.3604 - val_accuracy: 0.6250\n",
            "Epoch 26/100\n",
            "2/2 [==============================] - 27s 14s/step - loss: 1.2965 - accuracy: 0.6250 - val_loss: 1.2892 - val_accuracy: 0.5625\n",
            "Epoch 27/100\n",
            "2/2 [==============================] - 26s 13s/step - loss: 1.2759 - accuracy: 0.6406 - val_loss: 1.3051 - val_accuracy: 0.6406\n",
            "Epoch 28/100\n",
            "2/2 [==============================] - 26s 13s/step - loss: 1.3486 - accuracy: 0.6094 - val_loss: 1.3311 - val_accuracy: 0.5312\n",
            "Epoch 29/100\n",
            "2/2 [==============================] - 26s 13s/step - loss: 1.2774 - accuracy: 0.5781 - val_loss: 1.2307 - val_accuracy: 0.6719\n",
            "Epoch 30/100\n",
            "2/2 [==============================] - 26s 13s/step - loss: 1.3772 - accuracy: 0.5156 - val_loss: 1.2410 - val_accuracy: 0.6406\n",
            "Epoch 31/100\n",
            "2/2 [==============================] - 26s 13s/step - loss: 1.3082 - accuracy: 0.5781 - val_loss: 1.3236 - val_accuracy: 0.5938\n",
            "Epoch 32/100\n",
            "2/2 [==============================] - 26s 13s/step - loss: 1.2870 - accuracy: 0.6562 - val_loss: 1.2914 - val_accuracy: 0.6719\n",
            "Epoch 33/100\n",
            "2/2 [==============================] - 26s 13s/step - loss: 1.3168 - accuracy: 0.5938 - val_loss: 1.2051 - val_accuracy: 0.7188\n",
            "Epoch 34/100\n",
            "2/2 [==============================] - 26s 13s/step - loss: 1.3039 - accuracy: 0.6250 - val_loss: 1.3009 - val_accuracy: 0.5938\n",
            "Epoch 35/100\n",
            "2/2 [==============================] - 26s 13s/step - loss: 1.2566 - accuracy: 0.6094 - val_loss: 1.2724 - val_accuracy: 0.6250\n",
            "Epoch 36/100\n",
            "2/2 [==============================] - 29s 14s/step - loss: 1.2971 - accuracy: 0.5156 - val_loss: 1.2204 - val_accuracy: 0.6250\n",
            "Epoch 37/100\n",
            "2/2 [==============================] - 26s 13s/step - loss: 1.1979 - accuracy: 0.6875 - val_loss: 1.2240 - val_accuracy: 0.6406\n",
            "Epoch 38/100\n",
            "2/2 [==============================] - 26s 13s/step - loss: 1.1514 - accuracy: 0.6562 - val_loss: 1.1895 - val_accuracy: 0.6406\n",
            "Epoch 39/100\n",
            "2/2 [==============================] - 26s 13s/step - loss: 1.2607 - accuracy: 0.5625 - val_loss: 1.2452 - val_accuracy: 0.5781\n",
            "Epoch 40/100\n",
            "2/2 [==============================] - 26s 13s/step - loss: 1.2297 - accuracy: 0.6562 - val_loss: 1.2194 - val_accuracy: 0.6406\n",
            "Epoch 41/100\n",
            "2/2 [==============================] - 26s 13s/step - loss: 1.2216 - accuracy: 0.7031 - val_loss: 1.1850 - val_accuracy: 0.5938\n",
            "Epoch 42/100\n",
            "2/2 [==============================] - 26s 13s/step - loss: 1.1601 - accuracy: 0.7031 - val_loss: 1.1408 - val_accuracy: 0.7344\n",
            "Epoch 43/100\n",
            "2/2 [==============================] - 26s 13s/step - loss: 1.1748 - accuracy: 0.5781 - val_loss: 1.1742 - val_accuracy: 0.7344\n",
            "Epoch 44/100\n",
            "2/2 [==============================] - 26s 13s/step - loss: 1.1191 - accuracy: 0.7344 - val_loss: 1.1743 - val_accuracy: 0.6406\n",
            "Epoch 45/100\n",
            "2/2 [==============================] - 26s 13s/step - loss: 1.1716 - accuracy: 0.6562 - val_loss: 1.2298 - val_accuracy: 0.6094\n",
            "Epoch 46/100\n",
            "2/2 [==============================] - 33s 17s/step - loss: 1.1733 - accuracy: 0.6719 - val_loss: 1.2917 - val_accuracy: 0.5625\n",
            "Epoch 47/100\n",
            "2/2 [==============================] - 26s 13s/step - loss: 1.0968 - accuracy: 0.7031 - val_loss: 1.1833 - val_accuracy: 0.6094\n",
            "Epoch 48/100\n",
            "2/2 [==============================] - 26s 13s/step - loss: 1.2012 - accuracy: 0.5781 - val_loss: 1.1507 - val_accuracy: 0.6719\n",
            "Epoch 49/100\n",
            "2/2 [==============================] - 26s 13s/step - loss: 1.1082 - accuracy: 0.6562 - val_loss: 1.2638 - val_accuracy: 0.5781\n",
            "Epoch 50/100\n",
            "2/2 [==============================] - 26s 13s/step - loss: 0.9678 - accuracy: 0.8594 - val_loss: 1.2631 - val_accuracy: 0.5938\n",
            "Epoch 51/100\n",
            "2/2 [==============================] - 26s 13s/step - loss: 1.0388 - accuracy: 0.7031 - val_loss: 1.1246 - val_accuracy: 0.6875\n",
            "Epoch 52/100\n",
            "2/2 [==============================] - 26s 13s/step - loss: 1.2109 - accuracy: 0.5312 - val_loss: 1.0399 - val_accuracy: 0.7344\n",
            "Epoch 53/100\n",
            "2/2 [==============================] - 26s 13s/step - loss: 1.1670 - accuracy: 0.6250 - val_loss: 1.0787 - val_accuracy: 0.6875\n",
            "Epoch 54/100\n",
            "2/2 [==============================] - 26s 13s/step - loss: 1.0555 - accuracy: 0.7344 - val_loss: 1.0813 - val_accuracy: 0.7188\n",
            "Epoch 55/100\n",
            "2/2 [==============================] - 26s 13s/step - loss: 1.0223 - accuracy: 0.7500 - val_loss: 1.2462 - val_accuracy: 0.5312\n",
            "Epoch 56/100\n",
            "2/2 [==============================] - 26s 13s/step - loss: 1.1630 - accuracy: 0.6406 - val_loss: 1.2305 - val_accuracy: 0.5625\n",
            "Epoch 57/100\n",
            "2/2 [==============================] - 26s 13s/step - loss: 0.9723 - accuracy: 0.7656 - val_loss: 1.1471 - val_accuracy: 0.5938\n",
            "Epoch 58/100\n",
            "2/2 [==============================] - 26s 13s/step - loss: 1.0441 - accuracy: 0.6875 - val_loss: 1.0554 - val_accuracy: 0.7188\n",
            "Epoch 59/100\n",
            "2/2 [==============================] - 26s 13s/step - loss: 1.0758 - accuracy: 0.6562 - val_loss: 0.9983 - val_accuracy: 0.7031\n",
            "Epoch 60/100\n",
            "2/2 [==============================] - 26s 13s/step - loss: 1.0683 - accuracy: 0.6719 - val_loss: 1.0744 - val_accuracy: 0.6875\n",
            "Epoch 61/100\n",
            "2/2 [==============================] - 26s 13s/step - loss: 1.1538 - accuracy: 0.7031 - val_loss: 1.1143 - val_accuracy: 0.6719\n",
            "Epoch 62/100\n",
            "2/2 [==============================] - 26s 13s/step - loss: 1.0037 - accuracy: 0.7656 - val_loss: 1.1323 - val_accuracy: 0.6875\n",
            "Epoch 63/100\n",
            "2/2 [==============================] - 26s 13s/step - loss: 1.1165 - accuracy: 0.6562 - val_loss: 1.0084 - val_accuracy: 0.7500\n",
            "Epoch 64/100\n",
            "2/2 [==============================] - 26s 13s/step - loss: 1.1247 - accuracy: 0.6562 - val_loss: 1.1001 - val_accuracy: 0.6250\n",
            "Epoch 65/100\n",
            "2/2 [==============================] - 26s 13s/step - loss: 1.0468 - accuracy: 0.6719 - val_loss: 1.1167 - val_accuracy: 0.7031\n",
            "Epoch 66/100\n",
            "2/2 [==============================] - 26s 13s/step - loss: 1.0104 - accuracy: 0.7812 - val_loss: 1.2303 - val_accuracy: 0.5938\n",
            "Epoch 67/100\n",
            "2/2 [==============================] - 26s 13s/step - loss: 1.0678 - accuracy: 0.7188 - val_loss: 1.1008 - val_accuracy: 0.5781\n",
            "Epoch 68/100\n",
            "2/2 [==============================] - 26s 13s/step - loss: 1.0273 - accuracy: 0.7500 - val_loss: 1.0345 - val_accuracy: 0.7188\n",
            "Epoch 69/100\n",
            "2/2 [==============================] - 26s 13s/step - loss: 0.9941 - accuracy: 0.7031 - val_loss: 1.0289 - val_accuracy: 0.7344\n",
            "Epoch 70/100\n",
            "2/2 [==============================] - 26s 13s/step - loss: 1.0640 - accuracy: 0.6875 - val_loss: 1.0417 - val_accuracy: 0.6875\n",
            "Epoch 71/100\n",
            "2/2 [==============================] - 29s 15s/step - loss: 1.0779 - accuracy: 0.6875 - val_loss: 0.9996 - val_accuracy: 0.6875\n",
            "Epoch 72/100\n",
            "2/2 [==============================] - 26s 13s/step - loss: 1.0423 - accuracy: 0.6719 - val_loss: 1.0099 - val_accuracy: 0.7656\n",
            "Epoch 73/100\n",
            "2/2 [==============================] - 26s 13s/step - loss: 1.0847 - accuracy: 0.7031 - val_loss: 0.9803 - val_accuracy: 0.7344\n",
            "Epoch 74/100\n",
            "2/2 [==============================] - 26s 13s/step - loss: 0.9702 - accuracy: 0.7969 - val_loss: 1.0288 - val_accuracy: 0.6562\n",
            "Epoch 75/100\n",
            "2/2 [==============================] - 26s 13s/step - loss: 1.0201 - accuracy: 0.7656 - val_loss: 1.0834 - val_accuracy: 0.6719\n",
            "Epoch 76/100\n",
            "2/2 [==============================] - 26s 13s/step - loss: 1.1655 - accuracy: 0.5625 - val_loss: 1.0289 - val_accuracy: 0.7031\n",
            "Epoch 77/100\n",
            "2/2 [==============================] - 26s 13s/step - loss: 0.9088 - accuracy: 0.8281 - val_loss: 1.1021 - val_accuracy: 0.5938\n",
            "Epoch 78/100\n",
            "2/2 [==============================] - 26s 13s/step - loss: 1.0593 - accuracy: 0.6562 - val_loss: 0.9637 - val_accuracy: 0.7031\n",
            "Epoch 79/100\n",
            "2/2 [==============================] - 26s 13s/step - loss: 0.9713 - accuracy: 0.7031 - val_loss: 1.1055 - val_accuracy: 0.5469\n",
            "Epoch 80/100\n",
            "2/2 [==============================] - 26s 13s/step - loss: 0.9832 - accuracy: 0.7500 - val_loss: 1.1423 - val_accuracy: 0.6406\n",
            "Epoch 81/100\n",
            "2/2 [==============================] - 26s 13s/step - loss: 0.9529 - accuracy: 0.7188 - val_loss: 0.9564 - val_accuracy: 0.7500\n",
            "Epoch 82/100\n",
            "2/2 [==============================] - 26s 13s/step - loss: 0.9885 - accuracy: 0.7188 - val_loss: 1.0113 - val_accuracy: 0.6875\n",
            "Epoch 83/100\n",
            "2/2 [==============================] - 26s 13s/step - loss: 0.9355 - accuracy: 0.7812 - val_loss: 0.9644 - val_accuracy: 0.7500\n",
            "Epoch 84/100\n",
            "2/2 [==============================] - 26s 13s/step - loss: 1.0471 - accuracy: 0.7344 - val_loss: 1.0255 - val_accuracy: 0.7344\n",
            "Epoch 85/100\n",
            "2/2 [==============================] - 26s 13s/step - loss: 0.9711 - accuracy: 0.7031 - val_loss: 1.0348 - val_accuracy: 0.6719\n",
            "Epoch 86/100\n",
            "2/2 [==============================] - 26s 13s/step - loss: 0.8817 - accuracy: 0.7969 - val_loss: 0.9448 - val_accuracy: 0.8438\n",
            "Epoch 87/100\n",
            "2/2 [==============================] - 26s 13s/step - loss: 0.8542 - accuracy: 0.7656 - val_loss: 0.9074 - val_accuracy: 0.7656\n",
            "Epoch 88/100\n",
            "2/2 [==============================] - 26s 13s/step - loss: 1.1025 - accuracy: 0.5938 - val_loss: 1.0888 - val_accuracy: 0.6250\n",
            "Epoch 89/100\n",
            "2/2 [==============================] - 32s 16s/step - loss: 1.0161 - accuracy: 0.6562 - val_loss: 0.8924 - val_accuracy: 0.8125\n",
            "Epoch 90/100\n",
            "2/2 [==============================] - 26s 13s/step - loss: 0.9920 - accuracy: 0.7656 - val_loss: 0.9664 - val_accuracy: 0.7031\n",
            "Epoch 91/100\n",
            "2/2 [==============================] - 28s 14s/step - loss: 0.9575 - accuracy: 0.6250 - val_loss: 0.9418 - val_accuracy: 0.7812\n",
            "Epoch 92/100\n",
            "2/2 [==============================] - 29s 15s/step - loss: 0.8614 - accuracy: 0.7656 - val_loss: 0.9569 - val_accuracy: 0.6875\n",
            "Epoch 93/100\n",
            "2/2 [==============================] - 26s 13s/step - loss: 0.8476 - accuracy: 0.9062 - val_loss: 0.9740 - val_accuracy: 0.7656\n",
            "Epoch 94/100\n",
            "2/2 [==============================] - 26s 13s/step - loss: 0.9333 - accuracy: 0.7031 - val_loss: 0.8695 - val_accuracy: 0.8125\n",
            "Epoch 95/100\n",
            "2/2 [==============================] - 26s 13s/step - loss: 0.8903 - accuracy: 0.7500 - val_loss: 0.8556 - val_accuracy: 0.8125\n",
            "Epoch 96/100\n",
            "2/2 [==============================] - 26s 13s/step - loss: 0.9671 - accuracy: 0.7500 - val_loss: 0.8801 - val_accuracy: 0.7812\n",
            "Epoch 97/100\n",
            "2/2 [==============================] - 26s 13s/step - loss: 0.8935 - accuracy: 0.6875 - val_loss: 0.9384 - val_accuracy: 0.6875\n",
            "Epoch 98/100\n",
            "2/2 [==============================] - 26s 13s/step - loss: 0.8938 - accuracy: 0.7500 - val_loss: 1.0269 - val_accuracy: 0.6719\n",
            "Epoch 99/100\n",
            "2/2 [==============================] - 26s 13s/step - loss: 0.8355 - accuracy: 0.7500 - val_loss: 1.0014 - val_accuracy: 0.6406\n",
            "Epoch 100/100\n",
            "2/2 [==============================] - 26s 13s/step - loss: 0.9832 - accuracy: 0.7188 - val_loss: 0.9146 - val_accuracy: 0.7812\n"
          ],
          "name": "stdout"
        }
      ]
    },
    {
      "cell_type": "code",
      "metadata": {
        "id": "pm2DmP3m88rt",
        "colab_type": "code",
        "colab": {
          "base_uri": "https://localhost:8080/",
          "height": 68
        },
        "outputId": "26889d77-c9ed-480c-da43-2cb5603f0c12"
      },
      "source": [
        "validation_steps = 20\n",
        " \n",
        "loss0,accuracy0 = model.evaluate(validation_ds, steps = validation_steps)\n",
        " \n",
        "print(\"loss: {:.2f}\".format(loss0))\n",
        "print(\"accuracy: {:.2f}\".format(accuracy0))"
      ],
      "execution_count": 27,
      "outputs": [
        {
          "output_type": "stream",
          "text": [
            "20/20 [==============================] - 153s 8s/step - loss: 0.9493 - accuracy: 0.7063\n",
            "loss: 0.95\n",
            "accuracy: 0.71\n"
          ],
          "name": "stdout"
        }
      ]
    },
    {
      "cell_type": "code",
      "metadata": {
        "id": "zLSlK1Al-EYi",
        "colab_type": "code",
        "colab": {
          "base_uri": "https://localhost:8080/",
          "height": 295
        },
        "outputId": "b4ac9ec5-fabc-44ce-a21f-3367c3dcaf9d"
      },
      "source": [
        "plt.plot(history.history['accuracy'])\n",
        "plt.plot(history.history['val_accuracy'])\n",
        "plt.title('model accuracy')\n",
        "plt.ylabel('accuracy')\n",
        "plt.xlabel('epoch')\n",
        "plt.legend(['train', 'test'], loc='upper left')\n",
        "plt.show()"
      ],
      "execution_count": 40,
      "outputs": [
        {
          "output_type": "display_data",
          "data": {
            "image/png": "[encoded data removed]",
            "text/plain": [
              "<Figure size 432x288 with 1 Axes>"
            ]
          },
          "metadata": {
            "tags": [],
            "needs_background": "light"
          }
        }
      ]
    },
    {
      "cell_type": "code",
      "metadata": {
        "id": "rDF01g67AbKf",
        "colab_type": "code",
        "colab": {
          "base_uri": "https://localhost:8080/",
          "height": 295
        },
        "outputId": "e75ea4e5-2d42-48d6-b258-13bc9ed288b6"
      },
      "source": [
        "# summarize history for loss\n",
        "plt.plot(history.history['loss'])\n",
        "plt.plot(history.history['val_loss'])\n",
        "plt.title('model loss')\n",
        "plt.ylabel('loss')\n",
        "plt.xlabel('epoch')\n",
        "plt.legend(['train', 'test'], loc='upper left')\n",
        "plt.show()"
      ],
      "execution_count": 41,
      "outputs": [
        {
          "output_type": "display_data",
          "data": {
            "image/png": "[encoded data removed]",
            "text/plain": [
              "<Figure size 432x288 with 1 Axes>"
            ]
          },
          "metadata": {
            "tags": [],
            "needs_background": "light"
          }
        }
      ]
    },
    {
      "cell_type": "code",
      "metadata": {
        "id": "-7PecHLXAlNv",
        "colab_type": "code",
        "colab": {}
      },
      "source": [
        ""
      ],
      "execution_count": 0,
      "outputs": []
    }
  ]
}