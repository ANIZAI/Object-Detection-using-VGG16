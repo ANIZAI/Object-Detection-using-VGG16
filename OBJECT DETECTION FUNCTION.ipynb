{
 "cells": [
  {
   "cell_type": "code",
   "execution_count": 12,
   "metadata": {},
   "outputs": [],
   "source": [
    "def objdetect(link):\n",
    "    from keras.models import load_model\n",
    "    model=load_model('objdetect.h5')\n",
    "    from PIL import Image\n",
    "    import urllib, cStringIO\n",
    "    file = cStringIO.StringIO(urllib.urlopen(link).read())\n",
    "    img = Image.open(file)\n",
    "    from keras.preprocessing.image import load_img,img_to_array\n",
    "    import numpy as np\n",
    "    testset=load_img(file,target_size=(224,224))\n",
    "    x = img_to_array(testset)\n",
    "    x = np.expand_dims(x, axis=0)\n",
    "    probabilities=model.predict(x)\n",
    "    import pickle\n",
    "    with open('category' + '.pkl', 'rb') as f:\n",
    "        category= pickle.load(f)\n",
    "    tempDict = {}\n",
    "    count = 0\n",
    "    for eachprob in probabilities[0]:\n",
    "        tempDict[eachprob] = count\n",
    "        count = count +1\n",
    "    top = 0\n",
    "    # sorting to get top 5 predictions\n",
    "    topPredictions={}\n",
    "    for eachkey in sorted(tempDict,reverse=True):\n",
    "        Name = category[tempDict[eachkey]]\n",
    "        Percentage = eachkey\n",
    "        topPredictions[Name]=round(Percentage*100,3)\n",
    "        if top == 7:\n",
    "            break\n",
    "        top = top +1\n",
    "\n",
    "    return topPredictions"
   ]
  },
  {
   "cell_type": "code",
   "execution_count": 11,
   "metadata": {},
   "outputs": [
    {
     "data": {
      "text/plain": [
       "{'Model T': 8.098,\n",
       " 'crash helmet': 8.655,\n",
       " 'go-kart': 6.897,\n",
       " 'horse cart, horse-cart': 4.654,\n",
       " 'moped': 18.383,\n",
       " 'motor scooter, scooter': 9.078,\n",
       " 'tractor': 12.376,\n",
       " 'tricycle, trike, velocipede': 19.877}"
      ]
     },
     "execution_count": 11,
     "metadata": {},
     "output_type": "execute_result"
    }
   ],
   "source": [
    "objdetect('https://iloveyoubisho.files.wordpress.com/2018/04/um-renegade-commando-wallpapers-price-india.jpg?w=775')"
   ]
  }
 ],
 "metadata": {
  "kernelspec": {
   "display_name": "Python 2",
   "language": "python",
   "name": "python2"
  },
  "language_info": {
   "codemirror_mode": {
    "name": "ipython",
    "version": 2
   },
   "file_extension": ".py",
   "mimetype": "text/x-python",
   "name": "python",
   "nbconvert_exporter": "python",
   "pygments_lexer": "ipython2",
   "version": "2.7.14"
  }
 },
 "nbformat": 4,
 "nbformat_minor": 2
}
